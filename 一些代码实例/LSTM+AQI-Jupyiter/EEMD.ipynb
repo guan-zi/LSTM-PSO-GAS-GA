{
 "cells": [
  {
   "cell_type": "markdown",
   "id": "09985b5c",
   "metadata": {
    "scrolled": true
   },
   "source": [
    "### 加载、读取"
   ]
  },
  {
   "cell_type": "code",
   "execution_count": 1,
   "id": "9c9946da",
   "metadata": {},
   "outputs": [],
   "source": [
    "from PyEMD import EEMD, EMD, Visualisation\n",
    "import pandas as pd\n",
    "import numpy as np"
   ]
  },
  {
   "cell_type": "code",
   "execution_count": 2,
   "id": "dc209887",
   "metadata": {},
   "outputs": [],
   "source": [
    "# 设置路径\n",
    "input_path = 'C:\\\\Users\\\\iii\\\\Desktop\\\\LSTM+AQI\\\\数据和测算结果\\\\'\n",
    "output_path = 'C:\\\\Users\\\\iii\\\\Desktop\\\\LSTM+AQI\\\\数据和测算结果\\\\'"
   ]
  },
  {
   "cell_type": "code",
   "execution_count": 3,
   "id": "1b56db85",
   "metadata": {},
   "outputs": [],
   "source": [
    "# 读取数据\n",
    "data_0 = pd.read_excel(input_path+'北京+日+AQI.xlsx', index_col='日期')"
   ]
  },
  {
   "cell_type": "code",
   "execution_count": 4,
   "id": "0cb08b31",
   "metadata": {
    "scrolled": true
   },
   "outputs": [
    {
     "data": {
      "text/html": [
       "<div>\n",
       "<style scoped>\n",
       "    .dataframe tbody tr th:only-of-type {\n",
       "        vertical-align: middle;\n",
       "    }\n",
       "\n",
       "    .dataframe tbody tr th {\n",
       "        vertical-align: top;\n",
       "    }\n",
       "\n",
       "    .dataframe thead th {\n",
       "        text-align: right;\n",
       "    }\n",
       "</style>\n",
       "<table border=\"1\" class=\"dataframe\">\n",
       "  <thead>\n",
       "    <tr style=\"text-align: right;\">\n",
       "      <th></th>\n",
       "      <th>t</th>\n",
       "      <th>AQI</th>\n",
       "      <th>质量等级</th>\n",
       "      <th>PM2.5</th>\n",
       "      <th>PM10</th>\n",
       "      <th>SO2</th>\n",
       "      <th>NO2</th>\n",
       "      <th>CO</th>\n",
       "      <th>O3_8h</th>\n",
       "    </tr>\n",
       "    <tr>\n",
       "      <th>日期</th>\n",
       "      <th></th>\n",
       "      <th></th>\n",
       "      <th></th>\n",
       "      <th></th>\n",
       "      <th></th>\n",
       "      <th></th>\n",
       "      <th></th>\n",
       "      <th></th>\n",
       "      <th></th>\n",
       "    </tr>\n",
       "  </thead>\n",
       "  <tbody>\n",
       "    <tr>\n",
       "      <th>2014-01-01</th>\n",
       "      <td>1</td>\n",
       "      <td>81</td>\n",
       "      <td>良</td>\n",
       "      <td>45</td>\n",
       "      <td>111</td>\n",
       "      <td>28.0</td>\n",
       "      <td>62.0</td>\n",
       "      <td>1.5</td>\n",
       "      <td>52</td>\n",
       "    </tr>\n",
       "    <tr>\n",
       "      <th>2014-01-02</th>\n",
       "      <td>2</td>\n",
       "      <td>145</td>\n",
       "      <td>轻度污染</td>\n",
       "      <td>111</td>\n",
       "      <td>168</td>\n",
       "      <td>69.0</td>\n",
       "      <td>93.0</td>\n",
       "      <td>3.4</td>\n",
       "      <td>14</td>\n",
       "    </tr>\n",
       "  </tbody>\n",
       "</table>\n",
       "</div>"
      ],
      "text/plain": [
       "            t  AQI  质量等级  PM2.5  PM10   SO2   NO2   CO  O3_8h\n",
       "日期                                                           \n",
       "2014-01-01  1   81     良     45   111  28.0  62.0  1.5     52\n",
       "2014-01-02  2  145  轻度污染    111   168  69.0  93.0  3.4     14"
      ]
     },
     "execution_count": 4,
     "metadata": {},
     "output_type": "execute_result"
    }
   ],
   "source": [
    "# 展示数据\n",
    "data_0.head(2)"
   ]
  },
  {
   "cell_type": "markdown",
   "id": "7bc1a166",
   "metadata": {},
   "source": [
    "### 切片 取数"
   ]
  },
  {
   "cell_type": "code",
   "execution_count": 5,
   "id": "da8d7920",
   "metadata": {},
   "outputs": [],
   "source": [
    "# aqi = data_0[['t','AQI']]\n",
    "aqi = data_0.AQI"
   ]
  },
  {
   "cell_type": "code",
   "execution_count": 6,
   "id": "4c67a806",
   "metadata": {
    "scrolled": false
   },
   "outputs": [
    {
     "data": {
      "text/plain": [
       "日期\n",
       "2014-01-01     81\n",
       "2014-01-02    145\n",
       "2014-01-03     74\n",
       "Name: AQI, dtype: int64"
      ]
     },
     "execution_count": 6,
     "metadata": {},
     "output_type": "execute_result"
    }
   ],
   "source": [
    "# 展示\n",
    "aqi.head(3)"
   ]
  },
  {
   "cell_type": "markdown",
   "id": "8eeda933",
   "metadata": {},
   "source": [
    "### 转换格式\n",
    "##### 需求： <class 'numpy.ndarray'>"
   ]
  },
  {
   "cell_type": "code",
   "execution_count": 7,
   "id": "a5c1c84d",
   "metadata": {
    "scrolled": false
   },
   "outputs": [
    {
     "name": "stdout",
     "output_type": "stream",
     "text": [
      "<class 'pandas.core.series.Series'>\n",
      "[ 81 145  74 149 119 182 145  27  46  85 139  47 109 108 125 402 215  99\n",
      " 151  35  26 150 271 197  42  72 118  62 155  96 190 179  89  37  40 117\n",
      " 157 133  90  33  35 129 146 238 315 428 346 138  95  87 214 309 313 261\n",
      " 310 403 366  35 103  54 178 268  77  35  39  66 172 124 107 205  41  62\n",
      "  64 124 148 145  87  72  44  57  82 177 270 250 319 299 168  63  64 176\n",
      " 137 130  65  91  65  96 128 224 159 251  81 131 207 279 120  82 120 183\n",
      "  83  81  67  86 151 151 171  66  73  84 118 136]\n"
     ]
    }
   ],
   "source": [
    "aqi_ndarray = np.asarray(aqi)\n",
    "print(type(aqi))\n",
    "'\\n'\n",
    "print(aqi_ndarray)"
   ]
  },
  {
   "cell_type": "code",
   "execution_count": 8,
   "id": "70044754",
   "metadata": {},
   "outputs": [
    {
     "data": {
      "text/plain": [
       "120"
      ]
     },
     "execution_count": 8,
     "metadata": {},
     "output_type": "execute_result"
    }
   ],
   "source": [
    "len(aqi_ndarray)"
   ]
  },
  {
   "cell_type": "markdown",
   "id": "a8e9da70",
   "metadata": {},
   "source": [
    "### EEMD分解 \n",
    "#### ref：https://www.cnblogs.com/xtu-zzg/p/13153074.html"
   ]
  },
  {
   "cell_type": "code",
   "execution_count": 9,
   "id": "c90b1d84",
   "metadata": {},
   "outputs": [],
   "source": [
    "# 设置信号长度\n",
    "t = np.arange(1,len(aqi_ndarray)+1)\n",
    "\n",
    "# 提取imfs和剩余信号res\n",
    "emd = EMD()\n",
    "emd.emd(aqi_ndarray)\n",
    "imfs, res = emd.get_imfs_and_residue()"
   ]
  },
  {
   "cell_type": "markdown",
   "id": "cb7871c7",
   "metadata": {},
   "source": [
    "### 制图"
   ]
  },
  {
   "cell_type": "code",
   "execution_count": 10,
   "id": "34f76213",
   "metadata": {},
   "outputs": [],
   "source": [
    "# 绘制 IMF\n",
    "vis = Visualisation()\n",
    "#vis.plot_imfs(imfs=imfs, residue=res, t=t, include_residue=True)  # vis.plot_imfs(imfs=imfs, residue=res, t=t, include_residue=True)\n",
    "\n",
    "# 绘制并显示所有提供的IMF的瞬时频率\n",
    "#vis.plot_instant_freq(t, imfs=imfs)\n",
    "# vis.show()"
   ]
  },
  {
   "cell_type": "markdown",
   "id": "aaf54b41",
   "metadata": {},
   "source": [
    "### 输出\n",
    "#### 输出每一个IMF分量 和 Res\n",
    "##### 用于后续lsmt"
   ]
  },
  {
   "cell_type": "code",
   "execution_count": 11,
   "id": "5d0cbfef",
   "metadata": {},
   "outputs": [
    {
     "name": "stdout",
     "output_type": "stream",
     "text": [
      "5\n",
      "120\n",
      "120\n"
     ]
    }
   ],
   "source": [
    "# 查验size\n",
    "\n",
    "print(len(imfs))\n",
    "print(len(imfs[1]))\n",
    "print(len(res))"
   ]
  },
  {
   "cell_type": "code",
   "execution_count": 12,
   "id": "aba6e88d",
   "metadata": {},
   "outputs": [
    {
     "data": {
      "text/html": [
       "<div>\n",
       "<style scoped>\n",
       "    .dataframe tbody tr th:only-of-type {\n",
       "        vertical-align: middle;\n",
       "    }\n",
       "\n",
       "    .dataframe tbody tr th {\n",
       "        vertical-align: top;\n",
       "    }\n",
       "\n",
       "    .dataframe thead th {\n",
       "        text-align: right;\n",
       "    }\n",
       "</style>\n",
       "<table border=\"1\" class=\"dataframe\">\n",
       "  <thead>\n",
       "    <tr style=\"text-align: right;\">\n",
       "      <th></th>\n",
       "      <th>0</th>\n",
       "      <th>1</th>\n",
       "      <th>2</th>\n",
       "      <th>3</th>\n",
       "      <th>4</th>\n",
       "      <th>0</th>\n",
       "    </tr>\n",
       "  </thead>\n",
       "  <tbody>\n",
       "    <tr>\n",
       "      <th>0</th>\n",
       "      <td>-29.022702</td>\n",
       "      <td>-18.148571</td>\n",
       "      <td>38.989552</td>\n",
       "      <td>-28.918025</td>\n",
       "      <td>-30.597601</td>\n",
       "      <td>148.697348</td>\n",
       "    </tr>\n",
       "    <tr>\n",
       "      <th>1</th>\n",
       "      <td>36.411221</td>\n",
       "      <td>-23.304394</td>\n",
       "      <td>43.721009</td>\n",
       "      <td>-29.767730</td>\n",
       "      <td>-30.772997</td>\n",
       "      <td>148.712890</td>\n",
       "    </tr>\n",
       "    <tr>\n",
       "      <th>2</th>\n",
       "      <td>-32.085554</td>\n",
       "      <td>-27.880672</td>\n",
       "      <td>45.303586</td>\n",
       "      <td>-29.161563</td>\n",
       "      <td>-30.904735</td>\n",
       "      <td>148.728939</td>\n",
       "    </tr>\n",
       "    <tr>\n",
       "      <th>3</th>\n",
       "      <td>25.970331</td>\n",
       "      <td>-10.838060</td>\n",
       "      <td>43.110231</td>\n",
       "      <td>-26.999407</td>\n",
       "      <td>-30.988580</td>\n",
       "      <td>148.745486</td>\n",
       "    </tr>\n",
       "    <tr>\n",
       "      <th>4</th>\n",
       "      <td>-28.648378</td>\n",
       "      <td>17.328720</td>\n",
       "      <td>36.024540</td>\n",
       "      <td>-23.447929</td>\n",
       "      <td>-31.019473</td>\n",
       "      <td>148.762521</td>\n",
       "    </tr>\n",
       "  </tbody>\n",
       "</table>\n",
       "</div>"
      ],
      "text/plain": [
       "           0          1          2          3          4           0\n",
       "0 -29.022702 -18.148571  38.989552 -28.918025 -30.597601  148.697348\n",
       "1  36.411221 -23.304394  43.721009 -29.767730 -30.772997  148.712890\n",
       "2 -32.085554 -27.880672  45.303586 -29.161563 -30.904735  148.728939\n",
       "3  25.970331 -10.838060  43.110231 -26.999407 -30.988580  148.745486\n",
       "4 -28.648378  17.328720  36.024540 -23.447929 -31.019473  148.762521"
      ]
     },
     "execution_count": 12,
     "metadata": {},
     "output_type": "execute_result"
    }
   ],
   "source": [
    "# 分别输出为DF\n",
    "aqi_imfs_out = pd.DataFrame(imfs).T\n",
    "aqi_res_out  = pd.DataFrame(res)  # 无需转置\n",
    "\n",
    "# 合并 \n",
    "aqi_eemd_out = pd.concat([aqi_imfs_out,aqi_res_out], axis=1)  # 横向合并\n",
    "\n",
    "# 数据展示\n",
    "aqi_eemd_out.head(5)"
   ]
  },
  {
   "cell_type": "code",
   "execution_count": 13,
   "id": "ed0c588a",
   "metadata": {
    "scrolled": true
   },
   "outputs": [],
   "source": [
    "# 修改列名\n",
    "columns_list = []\n",
    "for i in range(0, len(imfs)):\n",
    "    # print(type(i))\n",
    "    imfs_order = i+1\n",
    "    columns_list.append('IMF%s' % imfs_order)\n",
    "columns_list.append('Res')\n",
    "# print(columns_list)\n",
    "aqi_eemd_out.columns = columns_list\n",
    "\n",
    "# 修改 index_col\n",
    "aqi_eemd_out.index = data_0.index"
   ]
  },
  {
   "cell_type": "code",
   "execution_count": 14,
   "id": "4342f92d",
   "metadata": {},
   "outputs": [
    {
     "data": {
      "text/html": [
       "<div>\n",
       "<style scoped>\n",
       "    .dataframe tbody tr th:only-of-type {\n",
       "        vertical-align: middle;\n",
       "    }\n",
       "\n",
       "    .dataframe tbody tr th {\n",
       "        vertical-align: top;\n",
       "    }\n",
       "\n",
       "    .dataframe thead th {\n",
       "        text-align: right;\n",
       "    }\n",
       "</style>\n",
       "<table border=\"1\" class=\"dataframe\">\n",
       "  <thead>\n",
       "    <tr style=\"text-align: right;\">\n",
       "      <th></th>\n",
       "      <th>IMF1</th>\n",
       "      <th>IMF2</th>\n",
       "      <th>IMF3</th>\n",
       "      <th>IMF4</th>\n",
       "      <th>IMF5</th>\n",
       "      <th>Res</th>\n",
       "    </tr>\n",
       "    <tr>\n",
       "      <th>日期</th>\n",
       "      <th></th>\n",
       "      <th></th>\n",
       "      <th></th>\n",
       "      <th></th>\n",
       "      <th></th>\n",
       "      <th></th>\n",
       "    </tr>\n",
       "  </thead>\n",
       "  <tbody>\n",
       "    <tr>\n",
       "      <th>2014-01-01</th>\n",
       "      <td>-29.022702</td>\n",
       "      <td>-18.148571</td>\n",
       "      <td>38.989552</td>\n",
       "      <td>-28.918025</td>\n",
       "      <td>-30.597601</td>\n",
       "      <td>148.697348</td>\n",
       "    </tr>\n",
       "    <tr>\n",
       "      <th>2014-01-02</th>\n",
       "      <td>36.411221</td>\n",
       "      <td>-23.304394</td>\n",
       "      <td>43.721009</td>\n",
       "      <td>-29.767730</td>\n",
       "      <td>-30.772997</td>\n",
       "      <td>148.712890</td>\n",
       "    </tr>\n",
       "    <tr>\n",
       "      <th>2014-01-03</th>\n",
       "      <td>-32.085554</td>\n",
       "      <td>-27.880672</td>\n",
       "      <td>45.303586</td>\n",
       "      <td>-29.161563</td>\n",
       "      <td>-30.904735</td>\n",
       "      <td>148.728939</td>\n",
       "    </tr>\n",
       "    <tr>\n",
       "      <th>2014-01-04</th>\n",
       "      <td>25.970331</td>\n",
       "      <td>-10.838060</td>\n",
       "      <td>43.110231</td>\n",
       "      <td>-26.999407</td>\n",
       "      <td>-30.988580</td>\n",
       "      <td>148.745486</td>\n",
       "    </tr>\n",
       "    <tr>\n",
       "      <th>2014-01-05</th>\n",
       "      <td>-28.648378</td>\n",
       "      <td>17.328720</td>\n",
       "      <td>36.024540</td>\n",
       "      <td>-23.447929</td>\n",
       "      <td>-31.019473</td>\n",
       "      <td>148.762521</td>\n",
       "    </tr>\n",
       "  </tbody>\n",
       "</table>\n",
       "</div>"
      ],
      "text/plain": [
       "                 IMF1       IMF2       IMF3       IMF4       IMF5         Res\n",
       "日期                                                                           \n",
       "2014-01-01 -29.022702 -18.148571  38.989552 -28.918025 -30.597601  148.697348\n",
       "2014-01-02  36.411221 -23.304394  43.721009 -29.767730 -30.772997  148.712890\n",
       "2014-01-03 -32.085554 -27.880672  45.303586 -29.161563 -30.904735  148.728939\n",
       "2014-01-04  25.970331 -10.838060  43.110231 -26.999407 -30.988580  148.745486\n",
       "2014-01-05 -28.648378  17.328720  36.024540 -23.447929 -31.019473  148.762521"
      ]
     },
     "execution_count": 14,
     "metadata": {},
     "output_type": "execute_result"
    }
   ],
   "source": [
    "aqi_eemd_out.head(5)"
   ]
  },
  {
   "cell_type": "markdown",
   "id": "c39d37f8",
   "metadata": {},
   "source": [
    "### 输出excel"
   ]
  },
  {
   "cell_type": "code",
   "execution_count": 15,
   "id": "543ce5bb",
   "metadata": {},
   "outputs": [],
   "source": [
    "output_path= 'C:\\\\Users\\\\iii\\\\Desktop\\\\LSTM+AQI\\\\数据和测算结果\\\\'\n",
    "aqi_eemd_out.to_excel(output_path+'aqi_eemd_out.xlsx')"
   ]
  },
  {
   "cell_type": "code",
   "execution_count": null,
   "id": "a0927402",
   "metadata": {},
   "outputs": [],
   "source": []
  },
  {
   "cell_type": "code",
   "execution_count": null,
   "id": "116d1fcc",
   "metadata": {},
   "outputs": [],
   "source": []
  },
  {
   "cell_type": "code",
   "execution_count": 16,
   "id": "a72f5960",
   "metadata": {},
   "outputs": [
    {
     "data": {
      "text/plain": [
       "DatetimeIndex(['2014-01-01', '2014-01-02', '2014-01-03', '2014-01-04',\n",
       "               '2014-01-05', '2014-01-06', '2014-01-07', '2014-01-08',\n",
       "               '2014-01-09', '2014-01-10',\n",
       "               ...\n",
       "               '2014-04-21', '2014-04-22', '2014-04-23', '2014-04-24',\n",
       "               '2014-04-25', '2014-04-26', '2014-04-27', '2014-04-28',\n",
       "               '2014-04-29', '2014-04-30'],\n",
       "              dtype='datetime64[ns]', name='日期', length=120, freq=None)"
      ]
     },
     "execution_count": 16,
     "metadata": {},
     "output_type": "execute_result"
    }
   ],
   "source": [
    "# 其他测试 无关程序\n",
    "aqi_eemd_out.index"
   ]
  },
  {
   "cell_type": "code",
   "execution_count": null,
   "id": "63a19ce6",
   "metadata": {},
   "outputs": [],
   "source": []
  }
 ],
 "metadata": {
  "kernelspec": {
   "display_name": "Python 3 (ipykernel)",
   "language": "python",
   "name": "python3"
  },
  "language_info": {
   "codemirror_mode": {
    "name": "ipython",
    "version": 3
   },
   "file_extension": ".py",
   "mimetype": "text/x-python",
   "name": "python",
   "nbconvert_exporter": "python",
   "pygments_lexer": "ipython3",
   "version": "3.8.8"
  }
 },
 "nbformat": 4,
 "nbformat_minor": 5
}
