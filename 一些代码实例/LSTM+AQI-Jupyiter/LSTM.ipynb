{
 "cells": [
  {
   "cell_type": "markdown",
   "id": "dfd521ad",
   "metadata": {},
   "source": [
    "# 出处\n",
    "##### https://bravey.github.io/2019-12-20-LSTM%E4%B8%8EProphet%E6%97%B6%E9%97%B4%E5%BA%8F%E5%88%97%E9%A2%84%E6%B5%8B%E5%AE%9E%E9%AA%8C.html"
   ]
  },
  {
   "cell_type": "markdown",
   "id": "21c88cd2",
   "metadata": {},
   "source": [
    "### 加载、读取"
   ]
  },
  {
   "cell_type": "code",
   "execution_count": 43,
   "id": "8f60562c",
   "metadata": {},
   "outputs": [],
   "source": [
    "import numpy as np \n",
    "import pandas as pd \n",
    "import matplotlib.pyplot as plt \n",
    "import torch \n",
    "from torch import nn"
   ]
  },
  {
   "cell_type": "code",
   "execution_count": 44,
   "id": "23e51fac",
   "metadata": {},
   "outputs": [],
   "source": [
    "# 设置路径\n",
    "input_path = 'C:\\\\Users\\\\iii\\\\Desktop\\\\LSTM+AQI\\\\数据和测算结果\\\\'\n",
    "output_path = 'C:\\\\Users\\\\iii\\\\Desktop\\\\LSTM+AQI\\\\数据和测算结果\\\\'"
   ]
  },
  {
   "cell_type": "code",
   "execution_count": 45,
   "id": "eb2bcfe9",
   "metadata": {},
   "outputs": [],
   "source": [
    "# 读取数据\n",
    "data = pd.read_excel(input_path+'aqi_eemd_out.xlsx', index_col='日期')"
   ]
  },
  {
   "cell_type": "markdown",
   "id": "259d38c7",
   "metadata": {},
   "source": [
    "### 先以IMF1为例"
   ]
  },
  {
   "cell_type": "code",
   "execution_count": 46,
   "id": "c57dfbf5",
   "metadata": {},
   "outputs": [
    {
     "data": {
      "text/plain": [
       "日期\n",
       "2014-01-01   -29.022702\n",
       "2014-01-02    36.411221\n",
       "Name: IMF1, dtype: float64"
      ]
     },
     "execution_count": 46,
     "metadata": {},
     "output_type": "execute_result"
    }
   ],
   "source": [
    "data = data.IMF1\n",
    "data.head(2)"
   ]
  },
  {
   "cell_type": "code",
   "execution_count": 47,
   "id": "03eded32",
   "metadata": {},
   "outputs": [],
   "source": [
    "#数据预处理\n",
    "data = data.dropna() #丢弃空值\n",
    "dataset = data.values\n",
    "dataset = dataset.astype('float32')"
   ]
  },
  {
   "cell_type": "code",
   "execution_count": 48,
   "id": "864be985",
   "metadata": {},
   "outputs": [],
   "source": [
    "# 归一华：最大最小值法\n",
    "max_value = np.max(dataset)\n",
    "min_value = np.min(dataset)\n",
    "scalar = max_value - min_value\n",
    "dataset = list(map(lambda x: x/scalar, dataset)) #将数据归一化到0~1之间"
   ]
  },
  {
   "cell_type": "markdown",
   "id": "a0481213",
   "metadata": {},
   "source": [
    "### 划分数据集"
   ]
  },
  {
   "cell_type": "code",
   "execution_count": 49,
   "id": "116f0f39",
   "metadata": {},
   "outputs": [],
   "source": [
    "#通过前面几条的数据来预测下一条的数据，look_back设置具体的把前面几条的数据作为预测的输入data_X，而输出就是下一条data_Y\n",
    "# 每个的滑动窗口设置为2\n",
    "# 即用第一天、第二天数据为X，预测第三天数据Y\n",
    "def create_dataset(dataset,look_back=2): # 每个的滑动窗口设置为2\n",
    "    dataX, dataY=[], []\n",
    "    for i in range(len(dataset)-look_back):\n",
    "        a=dataset[i:(i+look_back)]\n",
    "        dataX.append(a)    # 记录窗口的值\n",
    "        dataY.append(dataset[i+look_back]) # 记录除了前面两个以外的所有值作为正确的标签\n",
    "    return np.array(dataX), np.array(dataY)\n",
    "#创建好输入与输出 data_Y作为正确的预测值\n",
    "data_X, data_Y = create_dataset(dataset)"
   ]
  },
  {
   "cell_type": "code",
   "execution_count": 50,
   "id": "0f1e38a7",
   "metadata": {},
   "outputs": [],
   "source": [
    "#划分训练集和测试集，70%作为训练集\n",
    "\n",
    "train_size = int(len(data_X) * 0.7)\n",
    "test_size = len(data_X)-train_size\n",
    "\n",
    "train_X = data_X[:train_size]\n",
    "train_Y = data_Y[:train_size]\n",
    "\n",
    "test_X = data_X[train_size:]\n",
    "test_Y = data_Y[train_size:]"
   ]
  },
  {
   "cell_type": "markdown",
   "id": "ed045e10",
   "metadata": {},
   "source": [
    "### 改变数据格式"
   ]
  },
  {
   "cell_type": "code",
   "execution_count": 51,
   "id": "0f590693",
   "metadata": {},
   "outputs": [],
   "source": [
    "#最后，我们需要将数据改变一下形状，因为 RNN 读入的数据维度是 (seq, batch, feature)，\n",
    "#所以要重新改变一下数据的维度，这里只有一个序列，所以 batch 是 1，\n",
    "#而输入的 feature 就是我们希望依据的几天，这里我们定的是两个天，所以 feature 就是 2.\n",
    "\n",
    "train_X = train_X.reshape(-1,1,2)\n",
    "train_Y = train_Y.reshape(-1,1,1)\n",
    "test_X = test_X.reshape(-1,1,2)\n",
    "\n",
    "# 转化成torch 的张量\n",
    "train_x = torch.from_numpy(train_X)\n",
    "train_y = torch.from_numpy(train_Y)\n",
    "test_x = torch.from_numpy(test_X)"
   ]
  },
  {
   "cell_type": "markdown",
   "id": "055d0cfe",
   "metadata": {},
   "source": [
    "### 构建LSTM"
   ]
  },
  {
   "cell_type": "code",
   "execution_count": 52,
   "id": "c7f85d19",
   "metadata": {},
   "outputs": [],
   "source": [
    "#lstm 网络\n",
    "class lstm_reg(nn.Module):#括号中的是python的类继承语法，父类是nn.Module类 不是参数的意思\n",
    "    def __init__(self,input_size,hidden_size, output_size=1,num_layers=2): # 构造函数\n",
    "        #inpu_size 是输入的样本的特征维度， hidden_size 是LSTM层的神经元个数，\n",
    "        #output_size是输出的特征维度\n",
    "        super(lstm_reg,self).__init__()# super用于多层继承使用，必须要有的操作\n",
    " \n",
    "        self.rnn = nn.LSTM(input_size,hidden_size,num_layers)# 两层LSTM网络，\n",
    "        self.reg = nn.Linear(hidden_size,output_size)#把上一层总共hidden_size个的神经元的输出向量作为输入向量，然后回归到output_size维度的输出向量中\n",
    " \n",
    "    def forward(self,x): #x是输入的数据\n",
    "        x, _ = self.rnn(x)# 单个下划线表示不在意的变量，这里是LSTM网络输出的两个隐藏层状态\n",
    "        s,b,h = x.shape\n",
    "        x = x.view(s*b, h)\n",
    "        x = self.reg(x)\n",
    "        x = x.view(s,b,-1)#使用-1表示第三个维度自动根据原来的shape 和已经定了的s,b来确定\n",
    "        return x\n",
    "#我使用了GPU加速，如果不用的话需要把.cuda()给注释掉    \n",
    "net = lstm_reg(2,4)\n",
    "# net = net.cuda()\n",
    "criterion = nn.MSELoss().cuda()\n",
    "optimizer = torch.optim.Adam(net.parameters(),lr=1e-2)    "
   ]
  },
  {
   "cell_type": "markdown",
   "id": "338603db",
   "metadata": {},
   "source": [
    "### 迭代训练"
   ]
  },
  {
   "cell_type": "code",
   "execution_count": 53,
   "id": "18176547",
   "metadata": {},
   "outputs": [
    {
     "name": "stdout",
     "output_type": "stream",
     "text": [
      "Epoch: 1000, Loss:0.00404\n",
      "Epoch: 2000, Loss:0.00244\n",
      "Epoch: 3000, Loss:0.00359\n",
      "Epoch: 4000, Loss:0.00197\n",
      "Epoch: 5000, Loss:0.00178\n",
      "Epoch: 6000, Loss:0.00176\n",
      "Epoch: 7000, Loss:0.00169\n",
      "Epoch: 8000, Loss:0.00165\n",
      "Epoch: 9000, Loss:0.00170\n",
      "Epoch: 10000, Loss:0.00158\n"
     ]
    }
   ],
   "source": [
    "for e in range(10000):\n",
    "#将tensor放在GPU上面进行运算\n",
    "#不用则注释掉\n",
    "    var_x = train_x#.cuda()\n",
    "    var_y = train_y#.cuda()\n",
    " \n",
    "    out = net(var_x)\n",
    "    loss = criterion(out, var_y)\n",
    " \n",
    "    optimizer.zero_grad()\n",
    "    loss.backward()\n",
    "    optimizer.step()\n",
    "    \n",
    "    # 每1000次输出下迭代结果\n",
    "    if (e+1)%1000 == 0:\n",
    "        print('Epoch: {}, Loss:{:.5f}'.format(e+1, loss.item()))\n",
    "#存储训练好的模型参数        \n",
    "torch.save(net.state_dict(), 'example_wp_log.net_params.pkl')"
   ]
  },
  {
   "cell_type": "code",
   "execution_count": 54,
   "id": "ed911939",
   "metadata": {},
   "outputs": [
    {
     "data": {
      "image/png": "[encoded data removed]",
      "text/plain": [
       "<Figure size 432x288 with 1 Axes>"
      ]
     },
     "metadata": {
      "needs_background": "light"
     },
     "output_type": "display_data"
    },
    {
     "name": "stdout",
     "output_type": "stream",
     "text": [
      "295.281854200585\n"
     ]
    }
   ],
   "source": [
    "net.load_state_dict(torch.load('example_wp_log.net_params.pkl')) \n",
    "var_data = torch.from_numpy(test_X)#.cuda()#net在GPU上面，所以输入的测试集合也要转入到GPU上面\n",
    "pred_test = net(var_data) # 测试集的预测结果\n",
    "pred_test = pred_test.cpu().view(-1).data.numpy()#先转移到cpu上才能转换为numpy\n",
    "\n",
    "#乘以原来归一化的刻度放缩回到原来的值域 \n",
    "origin_test_Y = test_Y*scalar\n",
    "origin_pred_test = pred_test*scalar\n",
    "\n",
    "#画图\n",
    "plt.plot(origin_pred_test, 'r', label='prediction')\n",
    "plt.plot(origin_test_Y, 'b', label='real')\n",
    "plt.legend(loc='best')\n",
    "plt.show()\n",
    "\n",
    "#计算MSE\n",
    "#loss = criterion(out, var_y)？\n",
    "true_data = origin_test_Y\n",
    "true_data = np.array(true_data)\n",
    "true_data = np.squeeze(true_data)  # 从二维变成一维\n",
    "MSE = true_data - origin_pred_test\n",
    "MSE = MSE*MSE\n",
    "MSE_loss = sum(MSE)/len(MSE)\n",
    "print(MSE_loss)"
   ]
  },
  {
   "cell_type": "code",
   "execution_count": null,
   "id": "05aa2e11",
   "metadata": {},
   "outputs": [],
   "source": []
  },
  {
   "cell_type": "code",
   "execution_count": null,
   "id": "576849ee",
   "metadata": {},
   "outputs": [],
   "source": []
  },
  {
   "cell_type": "code",
   "execution_count": null,
   "id": "a1ca60ab",
   "metadata": {},
   "outputs": [],
   "source": []
  },
  {
   "cell_type": "code",
   "execution_count": null,
   "id": "f29ecd22",
   "metadata": {},
   "outputs": [],
   "source": []
  },
  {
   "cell_type": "code",
   "execution_count": null,
   "id": "70641408",
   "metadata": {},
   "outputs": [],
   "source": []
  },
  {
   "cell_type": "code",
   "execution_count": null,
   "id": "46849514",
   "metadata": {},
   "outputs": [],
   "source": []
  },
  {
   "cell_type": "code",
   "execution_count": null,
   "id": "5ef71464",
   "metadata": {},
   "outputs": [],
   "source": []
  },
  {
   "cell_type": "code",
   "execution_count": null,
   "id": "519ec252",
   "metadata": {},
   "outputs": [],
   "source": []
  }
 ],
 "metadata": {
  "kernelspec": {
   "display_name": "Python 3 (ipykernel)",
   "language": "python",
   "name": "python3"
  },
  "language_info": {
   "codemirror_mode": {
    "name": "ipython",
    "version": 3
   },
   "file_extension": ".py",
   "mimetype": "text/x-python",
   "name": "python",
   "nbconvert_exporter": "python",
   "pygments_lexer": "ipython3",
   "version": "3.8.8"
  }
 },
 "nbformat": 4,
 "nbformat_minor": 5
}
